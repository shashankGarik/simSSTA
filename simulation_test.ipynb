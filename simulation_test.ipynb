{
 "cells": [
  {
   "cell_type": "code",
   "execution_count": 2,
   "metadata": {},
   "outputs": [],
   "source": [
    "# %run test_working.py"
   ]
  },
  {
   "cell_type": "code",
   "execution_count": 3,
   "metadata": {},
   "outputs": [],
   "source": [
    "# %run dublins_car_pygame.py"
   ]
  },
  {
   "cell_type": "code",
   "execution_count": 4,
   "metadata": {},
   "outputs": [],
   "source": [
    "# %run dublins_car_model.py"
   ]
  },
  {
   "cell_type": "code",
   "execution_count": 5,
   "metadata": {},
   "outputs": [],
   "source": [
    "# %run potential_field_test.py"
   ]
  },
  {
   "cell_type": "code",
   "execution_count": 6,
   "metadata": {},
   "outputs": [
    {
     "name": "stdout",
     "output_type": "stream",
     "text": [
      "23\n",
      "23\n",
      "12\n",
      "[[650. 650.  30.  30.]\n",
      " [650. 170.  30.  30.]\n",
      " [170. 290.  30.  30.]\n",
      " [170. 770.  30.  30.]\n",
      " [410. 170.  30.  30.]\n",
      " [290. 290.  30.  30.]\n",
      " [170. 410.  30.  30.]\n",
      " [410. 530.  30.  30.]\n",
      " [890. 890.  30.  30.]\n",
      " [770. 290.  30.  30.]\n",
      " [290. 410.  30.  30.]\n",
      " [890. 650.  30.  30.]]\n"
     ]
    }
   ],
   "source": [
    "%run test_cases.py"
   ]
  },
  {
   "cell_type": "code",
   "execution_count": 1,
   "metadata": {},
   "outputs": [
    {
     "name": "stdout",
     "output_type": "stream",
     "text": [
      "pygame 2.5.2 (SDL 2.28.3, Python 3.7.16)\n",
      "Hello from the pygame community. https://www.pygame.org/contribute.html\n",
      "Initializing\n",
      "running\n"
     ]
    }
   ],
   "source": [
    "%run basic_agent.py"
   ]
  },
  {
   "cell_type": "code",
   "execution_count": null,
   "metadata": {},
   "outputs": [],
   "source": []
  }
 ],
 "metadata": {
  "kernelspec": {
   "display_name": "ai_env",
   "language": "python",
   "name": "python3"
  },
  "language_info": {
   "codemirror_mode": {
    "name": "ipython",
    "version": 3
   },
   "file_extension": ".py",
   "mimetype": "text/x-python",
   "name": "python",
   "nbconvert_exporter": "python",
   "pygments_lexer": "ipython3",
   "version": "3.7.16"
  }
 },
 "nbformat": 4,
 "nbformat_minor": 2
}
