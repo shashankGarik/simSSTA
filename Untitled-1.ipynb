{
 "cells": [
  {
   "cell_type": "code",
   "execution_count": 2,
   "metadata": {},
   "outputs": [],
   "source": [
    "import cv2\n",
    "import numpy as np\n",
    "import matplotlib.pyplot as plt\n",
    "\n",
    "# Step 1: Thresholding\n",
    "def threshold_image(image, threshold):\n",
    "    _, binary_image = cv2.threshold(image, threshold, 255, cv2.THRESH_BINARY)\n",
    "    return binary_image\n",
    "\n",
    "# Step 3: Occupancy Calculation using NumPy\n",
    "def calculate_occupancy(image, grid_size):\n",
    "    height, width = image.shape\n",
    "    cell_height = height // grid_size\n",
    "    cell_width = width // grid_size\n",
    "\n",
    "    # Reshape image into grid_size x grid_size blocks\n",
    "    reshaped_image = image[:cell_height*grid_size, :cell_width*grid_size].reshape(grid_size, cell_height, grid_size, cell_width)\n",
    "    \n",
    "    # Check if each block contains at least one pixel greater than the threshold\n",
    "    occupancy_grid = np.any(reshaped_image < 128, axis=(1, 3)).astype(np.uint8)\n",
    "\n",
    "    return occupancy_grid\n",
    "\n"
   ]
  },
  {
   "cell_type": "code",
   "execution_count": 6,
   "metadata": {},
   "outputs": [],
   "source": [
    "from PIL import Image\n",
    "import numpy as np\n",
    "a=np.full((300,300,3),255,dtype=np.uint8)\n",
    "image = Image.fromarray(a)\n",
    "image.save('background_image.jpg', 'JPEG')\n"
   ]
  },
  {
   "cell_type": "code",
   "execution_count": 3,
   "metadata": {},
   "outputs": [],
   "source": [
    "import heapq\n",
    "import itertools\n",
    "\n",
    "#utils\n",
    "\n",
    "class PriorityQueue:\n",
    "    def __init__(self):\n",
    "        self.elements = []\n",
    "        self.counter = itertools.count()\n",
    "\n",
    "    def empty(self):\n",
    "        return len(self.elements) == 0\n",
    "\n",
    "    def insert(self, item, priority):\n",
    "        count = next(self.counter)\n",
    "        heapq.heappush(self.elements, (priority, count, item))\n",
    "\n",
    "    def pop(self):\n",
    "        out = heapq.heappop(self.elements)\n",
    "        return out[2],out[0]\n",
    "    \n",
    "def manhattan_dist(p1,p2):\n",
    "    x1, y1 = p1\n",
    "    x2, y2 = p2\n",
    "    return abs(x1 - x2) + abs(y1 - y2)\n",
    "\n",
    "def add_cost(binary_map, cost = 2 , radius = 15):\n",
    "    kernel = np.ones((radius, radius), np.uint8) \n",
    "    img_dilation = cv2.dilate(map, kernel, iterations=1) \n",
    "    wheres = binary_map - img_dilation\n",
    "    binary_map[wheres != 0] = cost\n",
    "    return binary_map\n",
    "    "
   ]
  },
  {
   "cell_type": "code",
   "execution_count": 12,
   "metadata": {},
   "outputs": [],
   "source": [
    "class Astar:\n",
    "    def __init__(self,map):\n",
    "        self.map = map\n",
    "    def get_neighbors(self, state, max_boundary = 300):\n",
    "        x,y = state\n",
    "        p_neighbors = [(x-1,y+1),(x,y+1),(x+1,y+1),\n",
    "                       (x-1,y),          (x+1,y),\n",
    "                       (x-1,y-1),(x,y-1),(x+1,y-1)]\n",
    "        neighbors = []    \n",
    "\n",
    "        for x_p,y_p in p_neighbors:\n",
    "\n",
    "            if (0 <= x_p <= max_boundary-1 and 0 <= y_p <= max_boundary-1): \n",
    "                if map.T[x_p,y_p] != 1:\n",
    "                    neighbors.append((x_p,y_p))\n",
    "        return neighbors\n",
    "    \n",
    "    def run_search(self, start_state, goal_state):\n",
    "\n",
    "        frontier = PriorityQueue()\n",
    "        visited = set()\n",
    "        frontier.insert((start_state,[start_state],0),0)\n",
    "\n",
    "        while frontier.elements:\n",
    "            # print(frontier.elements)\n",
    "            (curr_state, curr_path, cost), _ = frontier.pop()\n",
    "\n",
    "            if curr_state not in visited:\n",
    "\n",
    "                if curr_state == goal_state:\n",
    "                    path = curr_path.copy()\n",
    "                    path.append(curr_state)\n",
    "                    return path\n",
    "                visited.add(curr_state)\n",
    "\n",
    "                neighbors = self.get_neighbors(curr_state)\n",
    "                for n in neighbors:\n",
    "                    temp_path = curr_path.copy()\n",
    "                    temp_path.append(n)\n",
    "                    ind_cost = (1 if self.map.T[n[0],n[1]] == 0 else self.map.T[n[0],n[1]])\n",
    "                    temp_cost = cost + ind_cost\n",
    "                    h_cost = manhattan_dist(n, goal_state) \n",
    "\n",
    "                    if n not in visited:\n",
    "                        frontier.insert((n,temp_path, temp_cost),temp_cost + h_cost)\n",
    "\n",
    "        return None\n",
    "\n"
   ]
  },
  {
   "cell_type": "code",
   "execution_count": 15,
   "metadata": {},
   "outputs": [
    {
     "ename": "TypeError",
     "evalue": "'<' not supported between instances of 'NoneType' and 'int'",
     "output_type": "error",
     "traceback": [
      "\u001b[1;31m---------------------------------------------------------------------------\u001b[0m",
      "\u001b[1;31mTypeError\u001b[0m                                 Traceback (most recent call last)",
      "Cell \u001b[1;32mIn[15], line 16\u001b[0m\n\u001b[0;32m     12\u001b[0m binary_image \u001b[38;5;241m=\u001b[39m threshold_image(image, threshold_value)\n\u001b[0;32m     13\u001b[0m \u001b[38;5;28mmap\u001b[39m \u001b[38;5;241m=\u001b[39m binary_image\n\u001b[1;32m---> 16\u001b[0m ones \u001b[38;5;241m=\u001b[39m \u001b[38;5;28;43mmap\u001b[39;49m\u001b[43m \u001b[49m\u001b[38;5;241;43m<\u001b[39;49m\u001b[43m \u001b[49m\u001b[38;5;241;43m128\u001b[39;49m\n\u001b[0;32m     17\u001b[0m zeros \u001b[38;5;241m=\u001b[39m \u001b[38;5;28mmap\u001b[39m \u001b[38;5;241m>\u001b[39m \u001b[38;5;241m128\u001b[39m\n\u001b[0;32m     19\u001b[0m \u001b[38;5;28mmap\u001b[39m[ones] \u001b[38;5;241m=\u001b[39m \u001b[38;5;241m1\u001b[39m\n",
      "\u001b[1;31mTypeError\u001b[0m: '<' not supported between instances of 'NoneType' and 'int'"
     ]
    },
    {
     "data": {
      "image/png": "[encoded data removed]",
      "text/plain": [
       "<Figure size 640x480 with 1 Axes>"
      ]
     },
     "metadata": {},
     "output_type": "display_data"
    }
   ],
   "source": [
    "import numpy as np\n",
    "x,y = 0,0\n",
    "np.random.seed(20)\n",
    "map = np.random.choice([0,1],(100,100),p = [.5,.5])\n",
    "\n",
    "plt.imshow(map.T)\n",
    "# zeros = map > 60\n",
    "# ones = map <= 128\n",
    "image = cv2.imread('C:/Users/shash/OneDrive/Desktop/SSTA_2/simSSTA/dataset/train/camera_0/Image_0_new3.jpeg', cv2.IMREAD_GRAYSCALE)\n",
    "# Step 1: Thresholding\n",
    "threshold_value = 200  # Adjust this value as needed\n",
    "binary_image = threshold_image(image, threshold_value)\n",
    "map = binary_image\n",
    "\n",
    "\n",
    "ones = map < 128\n",
    "zeros = map > 128\n",
    "\n",
    "map[ones] = 1\n",
    "map[zeros] = 0\n",
    "\n",
    "map = cv2.resize(map, (300,300))\n",
    "\n",
    "map = add_cost(map, cost = 3.5, radius = 20)\n",
    "print(np.unique(map))\n",
    "plt.imshow(map)\n",
    "check = Astar(map)\n",
    "start,goal = (0,0), (299,299)\n",
    "path = check.run_search(start,goal)\n",
    "print(path)\n",
    "path = np.array(path)\n",
    "x,y = path[:,0],path[:,1]\n",
    "\n",
    "plt.plot(x,y,'r')\n",
    "plt.plot(start[0],start[1],'ro')\n",
    "plt.plot(goal[0], goal[1],'ro')\n",
    "print(\"commit\")"
   ]
  },
  {
   "cell_type": "code",
   "execution_count": 10,
   "metadata": {},
   "outputs": [
    {
     "name": "stdout",
     "output_type": "stream",
     "text": [
      "[(10, 0, (1, 1)), (10, 1, (1, 2)), (10, 2, (2, 4)), (100, 3, (3, 4))]\n",
      "((1, 1), 10)\n",
      "[(10, 1, (1, 2)), (100, 3, (3, 4)), (10, 2, (2, 4))]\n",
      "((1, 2), 10)\n",
      "[(10, 2, (2, 4)), (100, 3, (3, 4))]\n",
      "((2, 4), 10)\n",
      "[(100, 3, (3, 4))]\n",
      "((3, 4), 100)\n"
     ]
    }
   ],
   "source": [
    "Q = PriorityQueue()\n",
    "Q.insert((1,1),10)\n",
    "Q.insert((1,2),10)\n",
    "Q.insert((2,4),10)\n",
    "Q.insert((3,4),100)\n",
    "\n",
    "for _ in range(len(Q.elements)):\n",
    "    print(Q.elements)\n",
    "    print(Q.pop())"
   ]
  },
  {
   "cell_type": "code",
   "execution_count": null,
   "metadata": {},
   "outputs": [],
   "source": []
  }
 ],
 "metadata": {
  "kernelspec": {
   "display_name": "simSSTA_env",
   "language": "python",
   "name": "python3"
  },
  "language_info": {
   "codemirror_mode": {
    "name": "ipython",
    "version": 3
   },
   "file_extension": ".py",
   "mimetype": "text/x-python",
   "name": "python",
   "nbconvert_exporter": "python",
   "pygments_lexer": "ipython3",
   "version": "3.7.16"
  }
 },
 "nbformat": 4,
 "nbformat_minor": 2
}
